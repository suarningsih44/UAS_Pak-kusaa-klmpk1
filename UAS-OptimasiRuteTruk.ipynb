{
  "nbformat": 4,
  "nbformat_minor": 0,
  "metadata": {
    "colab": {
      "provenance": [],
      "authorship_tag": "ABX9TyNwUDBjc2MDwvDO+G+t2R3W",
      "include_colab_link": true
    },
    "kernelspec": {
      "name": "python3",
      "display_name": "Python 3"
    },
    "language_info": {
      "name": "python"
    }
  },
  "cells": [
    {
      "cell_type": "markdown",
      "metadata": {
        "id": "view-in-github",
        "colab_type": "text"
      },
      "source": [
        "<a href=\"https://colab.research.google.com/github/suarningsih44/UAS_Pak-kusaa-klmpk1/blob/main/UAS-OptimasiRuteTruk.ipynb\" target=\"_parent\"><img src=\"https://colab.research.google.com/assets/colab-badge.svg\" alt=\"Open In Colab\"/></a>"
      ]
    },
    {
      "cell_type": "code",
      "execution_count": null,
      "metadata": {
        "id": "6EMAoKBw2ngU"
      },
      "outputs": [],
      "source": [
        "import numpy as np\n",
        "import random\n",
        "import matplotlib.pyplot as plt"
      ]
    },
    {
      "cell_type": "code",
      "source": [
        "# Inisialisasi lokasi outlet\n",
        "num_locations = 50\n",
        "num_trucks = 10\n",
        "locations = np.random.rand(num_locations, 2) * 100  # 50 lokasi acak dalam area 100x100\n",
        "\n",
        "# Fungsi jarak Euclidean\n",
        "def distance(a, b):\n",
        "    return np.linalg.norm(a - b)\n",
        "\n",
        "# Total jarak rute untuk satu truk\n",
        "def route_distance(route):\n",
        "    dist = 0\n",
        "    for i in range(len(route) - 1):\n",
        "        dist += distance(locations[route[i]], locations[route[i+1]])\n",
        "    return dist"
      ],
      "metadata": {
        "id": "F1R4hYFS3vcX"
      },
      "execution_count": null,
      "outputs": []
    },
    {
      "cell_type": "code",
      "source": [
        "# Fitness = total jarak semua truk (semakin kecil, semakin baik)\n",
        "def fitness(chromosome):\n",
        "    total_dist = 0\n",
        "    for truck_route in chromosome:\n",
        "        if len(truck_route) > 1:\n",
        "            total_dist += route_distance(truck_route)\n",
        "    return 1 / total_dist\n",
        "\n",
        "# Inisialisasi populasi\n",
        "def create_chromosome():\n",
        "    indices = list(range(num_locations))\n",
        "    random.shuffle(indices)\n",
        "    split = np.array_split(indices, num_trucks)\n",
        "    return [list(s) for s in split]\n",
        "\n",
        "def create_population(size=30):\n",
        "    return [create_chromosome() for _ in range(size)]\n",
        "\n",
        "# Seleksi: Tournament\n",
        "def selection(pop):\n",
        "    return max(random.sample(pop, 5), key=fitness)\n",
        "\n",
        "# Crossover: tukar satu rute antar truk\n",
        "def crossover(p1, p2):\n",
        "    child = []\n",
        "    all_points = set()\n",
        "    for t1, t2 in zip(p1, p2):\n",
        "        if random.random() < 0.5:\n",
        "            route = [x for x in t1 if x not in all_points]\n",
        "        else:\n",
        "            route = [x for x in t2 if x not in all_points]\n",
        "        all_points.update(route)\n",
        "        child.append(route)\n",
        "    return child"
      ],
      "metadata": {
        "id": "zzv8SmxJ37k_"
      },
      "execution_count": null,
      "outputs": []
    },
    {
      "cell_type": "code",
      "source": [
        "# Mutasi: tukar dua lokasi dalam satu rute\n",
        "def mutate(chromo, rate=0.1):\n",
        "    for route in chromo:\n",
        "        if random.random() < rate and len(route) > 1:\n",
        "            i, j = random.sample(range(len(route)), 2)\n",
        "            route[i], route[j] = route[j], route[i]\n",
        "    return chromo\n",
        "\n",
        "# Genetic Algorithm main loop\n",
        "population = create_population()\n",
        "generations = 100\n",
        "best_fit = 0\n",
        "best_solution = None\n",
        "\n",
        "for gen in range(generations):\n",
        "    new_population = []\n",
        "    for _ in range(len(population)):\n",
        "        parent1 = selection(population)\n",
        "        parent2 = selection(population)\n",
        "        child = crossover(parent1, parent2)\n",
        "        child = mutate(child)\n",
        "        new_population.append(child)\n",
        "\n",
        "        fit = fitness(child)\n",
        "        if fit > best_fit:\n",
        "            best_fit = fit\n",
        "            best_solution = child\n",
        "\n",
        "    population = new_population\n",
        "    print(f\"Gen {gen+1}: Best Fitness = {best_fit:.4f}\")\n",
        "\n",
        "# Visualisasi rute terbaik\n",
        "colors = plt.cm.tab10(np.linspace(0, 1, num_trucks))\n",
        "for idx, route in enumerate(best_solution):\n",
        "    points = locations[route]\n",
        "    plt.plot(points[:, 0], points[:, 1], marker='o', color=colors[idx])\n",
        "plt.title(\"Visualisasi Rute Terbaik (10 Truk - 50 Lokasi)\")\n",
        "plt.xlabel(\"X\")\n",
        "plt.ylabel(\"Y\")\n",
        "plt.grid(True)\n",
        "plt.show()"
      ],
      "metadata": {
        "id": "s1LQXm9A38_0",
        "collapsed": true
      },
      "execution_count": null,
      "outputs": []
    }
  ]
}