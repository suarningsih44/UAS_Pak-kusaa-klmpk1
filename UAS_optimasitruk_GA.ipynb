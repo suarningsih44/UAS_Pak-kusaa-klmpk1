{
  "nbformat": 4,
  "nbformat_minor": 0,
  "metadata": {
    "colab": {
      "provenance": [],
      "authorship_tag": "ABX9TyOw8L2eywzXxrqd3ySt0THi",
      "include_colab_link": true
    },
    "kernelspec": {
      "name": "python3",
      "display_name": "Python 3"
    },
    "language_info": {
      "name": "python"
    }
  },
  "cells": [
    {
      "cell_type": "markdown",
      "metadata": {
        "id": "view-in-github",
        "colab_type": "text"
      },
      "source": [
        "<a href=\"https://colab.research.google.com/github/suarningsih44/UAS_Pak-kusaa-klmpk1/blob/main/UAS_optimasitruk_GA.ipynb\" target=\"_parent\"><img src=\"https://colab.research.google.com/assets/colab-badge.svg\" alt=\"Open In Colab\"/></a>"
      ]
    },
    {
      "cell_type": "code",
      "execution_count": null,
      "metadata": {
        "id": "6EMAoKBw2ngU"
      },
      "outputs": [],
      "source": [
        "import numpy as np\n",
        "import random\n",
        "import matplotlib.pyplot as plt"
      ]
    },
    {
      "cell_type": "code",
      "source": [
        "# Inisialisasi lokasi outlet\n",
        "num_locations = 50\n",
        "num_trucks = 10\n",
        "locations = np.random.rand(num_locations, 2) * 100  # 50 lokasi acak dalam area 100x100\n",
        "\n",
        "# Fungsi jarak Euclidean\n",
        "def distance(a, b):\n",
        "    return np.linalg.norm(a - b)\n",
        "\n",
        "# Total jarak rute untuk satu truk\n",
        "def route_distance(route):\n",
        "    dist = 0\n",
        "    for i in range(len(route) - 1):\n",
        "        dist += distance(locations[route[i]], locations[route[i+1]])\n",
        "    return dist"
      ],
      "metadata": {
        "id": "F1R4hYFS3vcX"
      },
      "execution_count": null,
      "outputs": []
    },
    {
      "cell_type": "markdown",
      "source": [
        "# New Section"
      ],
      "metadata": {
        "id": "YS_aZdLIIikn"
      }
    },
    {
      "cell_type": "code",
      "source": [
        "# Fitness = total jarak semua truk (semakin kecil, semakin baik)\n",
        "def fitness(chromosome):\n",
        "    total_dist = 0\n",
        "    for truck_route in chromosome:\n",
        "        if len(truck_route) > 1:\n",
        "            total_dist += route_distance(truck_route)\n",
        "    return 1 / total_dist\n",
        "\n",
        "# Inisialisasi populasi\n",
        "def create_chromosome():\n",
        "    indices = list(range(num_locations))\n",
        "    random.shuffle(indices)\n",
        "    split = np.array_split(indices, num_trucks)\n",
        "    return [list(s) for s in split]\n",
        "\n",
        "def create_population(size=30):\n",
        "    return [create_chromosome() for _ in range(size)]\n",
        "\n",
        "# Seleksi: Tournament\n",
        "def selection(pop):\n",
        "    return max(random.sample(pop, 5), key=fitness)\n",
        "\n",
        "# Crossover: tukar satu rute antar truk\n",
        "def crossover(p1, p2):\n",
        "    child = []\n",
        "    all_points = set()\n",
        "    for t1, t2 in zip(p1, p2):\n",
        "        if random.random() < 0.5:\n",
        "            route = [x for x in t1 if x not in all_points]\n",
        "        else:\n",
        "            route = [x for x in t2 if x not in all_points]\n",
        "        all_points.update(route)\n",
        "        child.append(route)\n",
        "    return child"
      ],
      "metadata": {
        "id": "zzv8SmxJ37k_"
      },
      "execution_count": null,
      "outputs": []
    },
    {
      "cell_type": "code",
      "source": [
        "# Mutasi: tukar dua lokasi dalam satu rute\n",
        "def mutate(chromo, rate=0.1):\n",
        "    for route in chromo:\n",
        "        if random.random() < rate and len(route) > 1:\n",
        "            i, j = random.sample(range(len(route)), 2)\n",
        "            route[i], route[j] = route[j], route[i]\n",
        "    return chromo\n",
        "\n",
        "# Genetic Algorithm main loop\n",
        "population = create_population()\n",
        "generations = 100\n",
        "best_fit = 0\n",
        "best_solution = None\n",
        "\n",
        "for gen in range(generations):\n",
        "    new_population = []\n",
        "    for _ in range(len(population)):\n",
        "        parent1 = selection(population)\n",
        "        parent2 = selection(population)\n",
        "        child = crossover(parent1, parent2)\n",
        "        child = mutate(child)\n",
        "        new_population.append(child)\n",
        "\n",
        "        fit = fitness(child)\n",
        "        if fit > best_fit:\n",
        "            best_fit = fit\n",
        "            best_solution = child\n",
        "\n",
        "    population = new_population\n",
        "    print(f\"Gen {gen+1}: Best Fitness = {best_fit:.4f}\")\n",
        "\n",
        "# Visualisasi rute terbaik\n",
        "colors = plt.cm.tab10(np.linspace(0, 1, num_trucks))\n",
        "for idx, route in enumerate(best_solution):\n",
        "    points = locations[route]\n",
        "    plt.plot(points[:, 0], points[:, 1], marker='o', color=colors[idx])\n",
        "plt.title(\"Visualisasi Rute Terbaik (10 Truk - 50 Lokasi)\")\n",
        "plt.xlabel(\"X\")\n",
        "plt.ylabel(\"Y\")\n",
        "plt.grid(True)\n",
        "plt.show()"
      ],
      "metadata": {
        "colab": {
          "base_uri": "https://localhost:8080/",
          "height": 1000
        },
        "id": "s1LQXm9A38_0",
        "outputId": "59fe6793-374e-42cd-e8a4-7ef4da565283"
      },
      "execution_count": null,
      "outputs": [
        {
          "output_type": "stream",
          "name": "stdout",
          "text": [
            "Gen 1: Best Fitness = 0.0009\n",
            "Gen 2: Best Fitness = 0.0015\n",
            "Gen 3: Best Fitness = 0.0018\n",
            "Gen 4: Best Fitness = 0.0026\n",
            "Gen 5: Best Fitness = 0.0034\n",
            "Gen 6: Best Fitness = 0.0040\n",
            "Gen 7: Best Fitness = 0.0040\n",
            "Gen 8: Best Fitness = 0.0045\n",
            "Gen 9: Best Fitness = 0.0045\n",
            "Gen 10: Best Fitness = 0.0045\n",
            "Gen 11: Best Fitness = 0.0045\n",
            "Gen 12: Best Fitness = 0.0045\n",
            "Gen 13: Best Fitness = 0.0045\n",
            "Gen 14: Best Fitness = 0.0045\n",
            "Gen 15: Best Fitness = 0.0045\n",
            "Gen 16: Best Fitness = 0.0045\n",
            "Gen 17: Best Fitness = 0.0047\n",
            "Gen 18: Best Fitness = 0.0047\n",
            "Gen 19: Best Fitness = 0.0047\n",
            "Gen 20: Best Fitness = 0.0047\n",
            "Gen 21: Best Fitness = 0.0047\n",
            "Gen 22: Best Fitness = 0.0050\n",
            "Gen 23: Best Fitness = 0.0050\n",
            "Gen 24: Best Fitness = 0.0050\n",
            "Gen 25: Best Fitness = 0.0050\n",
            "Gen 26: Best Fitness = 0.0050\n",
            "Gen 27: Best Fitness = 0.0050\n",
            "Gen 28: Best Fitness = 0.0050\n",
            "Gen 29: Best Fitness = 0.0050\n",
            "Gen 30: Best Fitness = 0.0050\n",
            "Gen 31: Best Fitness = 0.0050\n",
            "Gen 32: Best Fitness = 0.0050\n",
            "Gen 33: Best Fitness = 0.0050\n",
            "Gen 34: Best Fitness = 0.0050\n",
            "Gen 35: Best Fitness = 0.0050\n",
            "Gen 36: Best Fitness = 0.0050\n",
            "Gen 37: Best Fitness = 0.0050\n",
            "Gen 38: Best Fitness = 0.0050\n",
            "Gen 39: Best Fitness = 0.0050\n",
            "Gen 40: Best Fitness = 0.0050\n",
            "Gen 41: Best Fitness = 0.0050\n",
            "Gen 42: Best Fitness = 0.0050\n",
            "Gen 43: Best Fitness = 0.0050\n",
            "Gen 44: Best Fitness = 0.0050\n",
            "Gen 45: Best Fitness = 0.0050\n",
            "Gen 46: Best Fitness = 0.0050\n",
            "Gen 47: Best Fitness = 0.0050\n",
            "Gen 48: Best Fitness = 0.0050\n",
            "Gen 49: Best Fitness = 0.0050\n",
            "Gen 50: Best Fitness = 0.0050\n",
            "Gen 51: Best Fitness = 0.0050\n",
            "Gen 52: Best Fitness = 0.0050\n",
            "Gen 53: Best Fitness = 0.0050\n",
            "Gen 54: Best Fitness = 0.0050\n",
            "Gen 55: Best Fitness = 0.0050\n",
            "Gen 56: Best Fitness = 0.0050\n",
            "Gen 57: Best Fitness = 0.0050\n",
            "Gen 58: Best Fitness = 0.0050\n",
            "Gen 59: Best Fitness = 0.0050\n",
            "Gen 60: Best Fitness = 0.0050\n",
            "Gen 61: Best Fitness = 0.0050\n",
            "Gen 62: Best Fitness = 0.0050\n",
            "Gen 63: Best Fitness = 0.0050\n",
            "Gen 64: Best Fitness = 0.0050\n",
            "Gen 65: Best Fitness = 0.0050\n",
            "Gen 66: Best Fitness = 0.0050\n",
            "Gen 67: Best Fitness = 0.0050\n",
            "Gen 68: Best Fitness = 0.0050\n",
            "Gen 69: Best Fitness = 0.0050\n",
            "Gen 70: Best Fitness = 0.0050\n",
            "Gen 71: Best Fitness = 0.0050\n",
            "Gen 72: Best Fitness = 0.0050\n",
            "Gen 73: Best Fitness = 0.0050\n",
            "Gen 74: Best Fitness = 0.0050\n",
            "Gen 75: Best Fitness = 0.0050\n",
            "Gen 76: Best Fitness = 0.0050\n",
            "Gen 77: Best Fitness = 0.0050\n",
            "Gen 78: Best Fitness = 0.0050\n",
            "Gen 79: Best Fitness = 0.0050\n",
            "Gen 80: Best Fitness = 0.0050\n",
            "Gen 81: Best Fitness = 0.0050\n",
            "Gen 82: Best Fitness = 0.0050\n",
            "Gen 83: Best Fitness = 0.0050\n",
            "Gen 84: Best Fitness = 0.0050\n",
            "Gen 85: Best Fitness = 0.0050\n",
            "Gen 86: Best Fitness = 0.0050\n",
            "Gen 87: Best Fitness = 0.0050\n",
            "Gen 88: Best Fitness = 0.0050\n",
            "Gen 89: Best Fitness = 0.0050\n",
            "Gen 90: Best Fitness = 0.0050\n",
            "Gen 91: Best Fitness = 0.0050\n",
            "Gen 92: Best Fitness = 0.0050\n",
            "Gen 93: Best Fitness = 0.0050\n",
            "Gen 94: Best Fitness = 0.0050\n",
            "Gen 95: Best Fitness = 0.0050\n",
            "Gen 96: Best Fitness = 0.0050\n",
            "Gen 97: Best Fitness = 0.0050\n",
            "Gen 98: Best Fitness = 0.0050\n",
            "Gen 99: Best Fitness = 0.0050\n",
            "Gen 100: Best Fitness = 0.0050\n"
          ]
        },
        {
          "output_type": "display_data",
          "data": {
            "text/plain": [
              "<Figure size 640x480 with 1 Axes>"
            ],
            "image/png": "[encoded data removed]"
          },
          "metadata": {}
        }
      ]
    }
  ]
}